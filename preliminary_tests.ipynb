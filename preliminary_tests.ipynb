{
 "cells": [
  {
   "cell_type": "code",
   "execution_count": 47,
   "metadata": {},
   "outputs": [],
   "source": [
    "import numpy as np\n",
    "import pandas as pd\n",
    "from collections import defaultdict\n",
    "import matplotlib.pyplot as plt \n",
    "from sklearn.linear_model import LogisticRegression\n",
    "from sklearn.svm import SVC\n",
    "from sklearn.metrics import roc_auc_score\n",
    "from sklearn.utils import shuffle"
   ]
  },
  {
   "cell_type": "markdown",
   "metadata": {},
   "source": [
    "# Load datasets"
   ]
  },
  {
   "cell_type": "code",
   "execution_count": 118,
   "metadata": {},
   "outputs": [],
   "source": [
    "def load_dataset(csv_file):\n",
    "    df = pd.read_csv(csv_file)\n",
    "    df = df.drop(columns=['user_id'])\n",
    "    df = df.drop(columns=['Unnamed: 0'])\n",
    "    df = shuffle(df)\n",
    "    X = df.loc[:, df.columns != 'is_onsight']\n",
    "    Y = df['is_onsight']\n",
    "    return (X.values, Y.values)\n",
    "\n",
    "X_orig, Y_orig = load_dataset('data/ds_train_orig.csv')\n",
    "X_bal_orig, Y_bal_orig = load_dataset('data/balanced_orig.csv')\n",
    "X_imp, Y_imp = load_dataset('data/ds_train_imp.csv')\n",
    "X_bal_imp, Y_bal_imp = load_dataset('data/balanced_imp.csv')\n",
    "X_test, Y_test = load_dataset('data/ds_test.csv')"
   ]
  },
  {
   "cell_type": "code",
   "execution_count": 119,
   "metadata": {},
   "outputs": [],
   "source": [
    "X = {'train_orig': X_orig,\n",
    "     'bal_orig': X_bal_orig,\n",
    "     'bal_imp': X_bal_imp,\n",
    "     'train_imp': X_imp,\n",
    "     'test': X_test}\n",
    "Y = {'train_orig': Y_orig,\n",
    "     'bal_orig': Y_bal_orig,\n",
    "     'bal_imp': Y_bal_imp,\n",
    "     'train_imp': Y_imp,\n",
    "     'test': Y_test}"
   ]
  },
  {
   "cell_type": "code",
   "execution_count": 120,
   "metadata": {},
   "outputs": [
    {
     "name": "stdout",
     "output_type": "stream",
     "text": [
      "Training orig set size: 1758212.\n",
      "Training imp size: 2171996.\n",
      "Balanced orig set size: 1126050.\n",
      "Balanced imp size: 1381634.\n",
      "Test set size: 432737.\n"
     ]
    }
   ],
   "source": [
    "x_torig = X['train_orig'].shape\n",
    "x_timp = X['train_imp'].shape\n",
    "x_borig = X['bal_orig'].shape\n",
    "x_bimp = X['bal_imp'].shape\n",
    "x_t = X['test'].shape\n",
    "print(\"Training orig set size: {}.\".format(x_torig[0]))\n",
    "print(\"Training imp size: {}.\".format(x_timp[0]))\n",
    "print(\"Balanced orig set size: {}.\".format(x_borig[0]))\n",
    "print(\"Balanced imp size: {}.\".format(x_bimp[0]))\n",
    "print(\"Test set size: {}.\".format(x_t[0]))"
   ]
  },
  {
   "cell_type": "code",
   "execution_count": 121,
   "metadata": {},
   "outputs": [],
   "source": [
    "### Standardize data\n",
    "\n",
    "from sklearn.preprocessing import StandardScaler\n",
    "\n",
    "train_set_types = ['train_orig', 'bal_orig', 'bal_imp', 'train_imp']\n",
    "\n",
    "X_std = {}\n",
    "scaler = StandardScaler()\n",
    "\n",
    "for set_type in train_set_types:\n",
    "    scaler.fit(X[set_type])\n",
    "    X_std[set_type] = scaler.transform(X[set_type])\n",
    "\n",
    "X_std['test'] = scaler.transform(X['test'])"
   ]
  },
  {
   "cell_type": "code",
   "execution_count": 122,
   "metadata": {},
   "outputs": [],
   "source": [
    "def print_score(method, model, X, Y, set_type):\n",
    "    accuracy = model.score(X, Y)\n",
    "    print(\"{} method achieves {} {} accuracy.\".format(method, accuracy, set_type))"
   ]
  },
  {
   "cell_type": "code",
   "execution_count": 123,
   "metadata": {},
   "outputs": [],
   "source": [
    "### Metrics/ROC curve/AUC ###\n",
    "\n",
    "import sklearn.metrics as metrics\n",
    "from sklearn.metrics import confusion_matrix\n",
    "\n",
    "def evaluate(model, X_test, Y_test, filename):\n",
    "    Y_pred = model.predict(X_test)\n",
    "    tn, fp, fn, tp = confusion_matrix(Y_test, Y_pred).ravel()\n",
    "    print('tp, fp, fn, tp =', (tn, fp, fn, tp))\n",
    "    precision = tp / (tp + fp)\n",
    "    recall = tp / (tp + fn)\n",
    "    specificity = tn / (tn + fp)\n",
    "    f1 = 2*tp / (2*tp + fp + fn)\n",
    "    print(\"Precision: \", precision)\n",
    "    print(\"Recall: \", recall)\n",
    "    print(\"Specificity: \", specificity)\n",
    "    print(\"F1: \", f1)\n",
    "#     Y_pred_proba = model.predict_proba(X_test)[:,1]\n",
    "#     fpr, tpr, threshold = metrics.roc_curve(Y_test, Y_pred_proba)\n",
    "#     roc_auc = metrics.auc(fpr, tpr)\n",
    "#     plt.title('Receiver Operating Characteristic')\n",
    "#     plt.plot(fpr, tpr, 'b', label = 'AUC = %0.2f' % roc_auc)\n",
    "#     plt.legend(loc = 'lower right')\n",
    "#     plt.plot([0, 1], [0, 1],'r--')\n",
    "#     plt.xlim([0, 1])\n",
    "#     plt.ylim([0, 1])\n",
    "#     plt.ylabel('True Positive Rate')\n",
    "#     plt.xlabel('False Positive Rate')\n",
    "#     plt.savefig('output/' + filename)"
   ]
  },
  {
   "cell_type": "markdown",
   "metadata": {},
   "source": [
    "# Correlation"
   ]
  },
  {
   "cell_type": "code",
   "execution_count": 171,
   "metadata": {},
   "outputs": [
    {
     "data": {
      "image/png": "[encoded data removed]",
      "text/plain": [
       "<Figure size 432x288 with 2 Axes>"
      ]
     },
     "metadata": {
      "needs_background": "light"
     },
     "output_type": "display_data"
    }
   ],
   "source": [
    "data = pd.read_csv('data/balanced_imp.csv')\n",
    "data = data.drop(columns=['user_id'])\n",
    "data = data.drop(columns=['Unnamed: 0'])\n",
    "names = list(data.columns)\n",
    "correlations = data.corr()\n",
    "# plot correlation matrix\n",
    "fig = plt.figure()\n",
    "ax = fig.add_subplot(111)\n",
    "cax = ax.matshow(correlations, vmin=-1, vmax=1)\n",
    "fig.colorbar(cax)\n",
    "ticks = np.arange(0,9,1)\n",
    "ax.set_xticks(ticks)\n",
    "ax.set_yticks(ticks)\n",
    "# ax.set_xticklabels(names)\n",
    "ax.set_yticklabels(names)\n",
    "plt.savefig('corr.eps')"
   ]
  },
  {
   "cell_type": "code",
   "execution_count": 124,
   "metadata": {},
   "outputs": [
    {
     "data": {
      "text/plain": [
       "(1381634, 8)"
      ]
     },
     "execution_count": 124,
     "metadata": {},
     "output_type": "execute_result"
    }
   ],
   "source": [
    "X['bal_imp'].shape"
   ]
  },
  {
   "cell_type": "markdown",
   "metadata": {},
   "source": [
    "# PCA"
   ]
  },
  {
   "cell_type": "code",
   "execution_count": 125,
   "metadata": {},
   "outputs": [],
   "source": [
    "import matplotlib.pyplot as plt\n",
    "from mpl_toolkits.mplot3d import Axes3D\n",
    "from sklearn.decomposition import PCA"
   ]
  },
  {
   "cell_type": "code",
   "execution_count": 169,
   "metadata": {},
   "outputs": [
    {
     "data": {
      "text/plain": [
       "<Figure size 576x432 with 0 Axes>"
      ]
     },
     "metadata": {},
     "output_type": "display_data"
    },
    {
     "data": {
      "image/png": "[encoded data removed]",
      "text/plain": [
       "<Figure size 432x288 with 1 Axes>"
      ]
     },
     "metadata": {
      "needs_background": "light"
     },
     "output_type": "display_data"
    }
   ],
   "source": [
    "plt.figure(2, figsize=(8, 6))\n",
    "plt.clf()\n",
    "\n",
    "X_sub = X_std['bal_imp'][:2000]\n",
    "Y_sub = Y['bal_imp'][:2000]\n",
    "\n",
    "# Plot the training points\n",
    "# plt.scatter(X_sub[:, 0], X_sub[:, 1], c=Y_sub, cmap=plt.cm.Set1,\n",
    "#             edgecolor='k')\n",
    "# plt.xlabel('Sepal length')\n",
    "# plt.ylabel('Sepal width')\n",
    "# x_min, x_max = X_sub[:, 0].min() - .5, X_sub[:, 0].max() + .5\n",
    "# y_min, y_max = X_sub[:, 1].min() - .5, X_sub[:, 1].max() + .5\n",
    "# plt.xlim(x_min, x_max)\n",
    "# plt.ylim(y_min, y_max)\n",
    "# plt.xticks(())\n",
    "# plt.yticks(())\n",
    "\n",
    "# To getter a better understanding of interaction of the dimensions\n",
    "# plot the first three PCA dimensions\n",
    "# fig = plt.figure(1, figsize=(8, 6))\n",
    "# ax = Axes3D(fig, elev=-150, azim=110)\n",
    "# X_reduced = PCA(n_components=3).fit_transform(X_sub)\n",
    "# ax.scatter(X_reduced[:, 0], X_reduced[:, 1], X_reduced[:, 2], c=Y_sub,\n",
    "#            cmap=plt.cm.Set1, edgecolor='k', s=40)\n",
    "# ax.set_title(\"First three PCA directions\")\n",
    "# ax.set_xlabel(\"1st eigenvector\")\n",
    "# ax.w_xaxis.set_ticklabels([])\n",
    "# ax.set_ylabel(\"2nd eigenvector\")\n",
    "# ax.w_yaxis.set_ticklabels([])\n",
    "# ax.set_zlabel(\"3rd eigenvector\")\n",
    "# ax.w_zaxis.set_ticklabels([])\n",
    "\n",
    "\n",
    "plt.figure()\n",
    "X_reduced = PCA(n_components=3).fit_transform(X_sub)\n",
    "plt.scatter(X_reduced[:, 0], X_reduced[:, 1], c=Y_sub,\n",
    "           cmap=plt.cm.Set1, edgecolor='k', s=70)\n",
    "plt.title(\"First two PCA directions\")\n",
    "plt.xlabel(\"1st eigenvector\")\n",
    "ax.w_xaxis.set_ticklabels([])\n",
    "plt.ylabel(\"2nd eigenvector\")\n",
    "ax.w_yaxis.set_ticklabels([])\n",
    "ax.set_zlabel(\"3rd eigenvector\")\n",
    "ax.w_zaxis.set_ticklabels([])\n",
    "\n",
    "plt.savefig('pca2.eps')"
   ]
  },
  {
   "cell_type": "code",
   "execution_count": 130,
   "metadata": {},
   "outputs": [
    {
     "data": {
      "text/plain": [
       "(2500,)"
      ]
     },
     "execution_count": 130,
     "metadata": {},
     "output_type": "execute_result"
    }
   ],
   "source": [
    "Y_sub.shape"
   ]
  },
  {
   "cell_type": "code",
   "execution_count": 59,
   "metadata": {},
   "outputs": [
    {
     "name": "stdout",
     "output_type": "stream",
     "text": [
      "[LibLinear]"
     ]
    }
   ],
   "source": [
    "lr = LogisticRegression(solver='liblinear', verbose=1, max_iter=100).fit(X_reduced, Y_sub)"
   ]
  },
  {
   "cell_type": "code",
   "execution_count": 60,
   "metadata": {},
   "outputs": [
    {
     "name": "stdout",
     "output_type": "stream",
     "text": [
      "pca method achieves 0.68329 training accuracy.\n",
      "tp, fp, fn, tp = (170223, 132096, 58835, 71583)\n",
      "Precision:  0.35145007585465365\n",
      "Recall:  0.5488736217393304\n",
      "Specificity:  0.563057565022377\n",
      "F1:  0.4285162692272005\n"
     ]
    },
    {
     "data": {
      "image/png": "[encoded data removed]",
      "text/plain": [
       "<Figure size 432x288 with 1 Axes>"
      ]
     },
     "metadata": {
      "needs_background": "light"
     },
     "output_type": "display_data"
    }
   ],
   "source": [
    "print_score('pca', lr, X_reduced, Y_sub, 'training')\n",
    "X_test_reduced = PCA(n_components=3).fit_transform(X_std['test'])\n",
    "\n",
    "evaluate(lr, X_test_reduced, Y['test'], filename='lr_pca_1000')"
   ]
  },
  {
   "cell_type": "markdown",
   "metadata": {},
   "source": [
    "# Logistic regression"
   ]
  },
  {
   "cell_type": "code",
   "execution_count": 156,
   "metadata": {},
   "outputs": [
    {
     "name": "stdout",
     "output_type": "stream",
     "text": [
      "Set:  train_orig\n",
      "[LibLinear]vanilla method achieves 0.5807979925060232 training accuracy.\n",
      "vanilla method achieves 0.5616991382756732 test accuracy.\n"
     ]
    }
   ],
   "source": [
    "logreg = defaultdict(lambda: defaultdict(int))\n",
    "\n",
    "set_types = ['train_orig']#, 'bal_orig']\n",
    "# set_types = ['bal_imp']\n",
    "# set_types = ['bal_orig']\n",
    "\n",
    "for set_type in set_types:\n",
    "    print(\"Set: \", set_type)\n",
    "    logreg['vanilla'][set_type] = LogisticRegression(solver='liblinear', verbose=1, max_iter=100).fit(X[set_type], Y[set_type])\n",
    "#     logreg['l1'][set_type] = LogisticRegression(penalty='l1', solver='liblinear', verbose=1, max_iter=100).fit(X[set_type], Y[set_type])\n",
    "\n",
    "    print_score('vanilla', logreg['vanilla'][set_type], X_std[set_type], Y[set_type], 'training')\n",
    "    print_score('vanilla', logreg['vanilla'][set_type], X_std['test'], Y['test'], 'test')\n",
    "#     print_score('l1', logreg['l1'][set_type], X[set_type], Y[set_type], 'training')\n",
    "#     print_score('l1', logreg['l1'][set_type], X['test'], Y['test'], 'test')\n",
    "#     logreg['l1'] = LogisticRegression(max_iter=10, penalty='l1', solver='liblinear', verbose=10).fit(X, Y)\n",
    "# logreg_elastic = LogisticRegression(penalty='elasticnet', solver='liblinear', verbose=1).fit(X, Y)"
   ]
  },
  {
   "cell_type": "code",
   "execution_count": 157,
   "metadata": {},
   "outputs": [
    {
     "name": "stdout",
     "output_type": "stream",
     "text": [
      "tp, fp, fn, tp = (123064, 179255, 10414, 120004)\n",
      "Precision:  0.40100381275082786\n",
      "Recall:  0.9201490591789477\n",
      "Specificity:  0.4070667076829442\n",
      "F1:  0.5585777223356149\n"
     ]
    }
   ],
   "source": [
    "# evaluate(logreg['vanilla']['bal_orig'], X_std['bal_orig'], Y['bal_orig'], filename='lr_l1_bal_orig_100')\n",
    "# evaluate(logreg['vanilla']['bal_orig'], X_std['test'], Y['test'], filename='lr_l2_bal_orig_100')\n",
    "evaluate(logreg['vanilla']['train_orig'], X_std['test'], Y['test'], filename='lr_l2_bal_orig_100')\n",
    "# evaluate(logreg['vanilla']['bal_imp'], X_std['bal_imp'], Y['bal_imp'], filename='lr_l2_bal_orig_std_100_MALE')\n",
    "# evaluate(logreg['vanilla']['bal_imp'], X_std['test'], Y['test'], filename='lr_l2_bal_orig_std_100_MALE')\n",
    "# evaluate(logreg['l1']['bal_m'], X['test'], Y['test'], filename='lr_l1_bal_imp_100')"
   ]
  },
  {
   "cell_type": "markdown",
   "metadata": {},
   "source": [
    "Observations: bal_orig better than bal_imp for l1, same for l2\n",
    "-> keep bal_orig from now on since bal_imp doesn't seem to add anything of consequence"
   ]
  },
  {
   "cell_type": "markdown",
   "metadata": {},
   "source": [
    "### Kernelized Logistic Regression"
   ]
  },
  {
   "cell_type": "code",
   "execution_count": 7,
   "metadata": {},
   "outputs": [],
   "source": [
    "from sklearn.kernel_approximation import Nystroem\n",
    "from sklearn.pipeline import Pipeline\n",
    "from sklearn.metrics.pairwise import check_pairwise_arrays"
   ]
  },
  {
   "cell_type": "code",
   "execution_count": 9,
   "metadata": {},
   "outputs": [],
   "source": [
    "def anova_kernel(X, Y=None, gamma=None, p=1):\n",
    "    X, Y = check_pairwise_arrays(X, Y)\n",
    "#     print(\"X = \", X)\n",
    "#     print(\"Y = \", Y)\n",
    "    if gamma is None:\n",
    "        gamma = 1. / X.shape[1]\n",
    "\n",
    "    diff = X[:, None, :] - Y[None, :, :]\n",
    "    diff **= 2\n",
    "    diff *= -gamma\n",
    "    np.exp(diff, out=diff)\n",
    "    K = diff.sum(axis=2)\n",
    "    K **= p\n",
    "    return K"
   ]
  },
  {
   "cell_type": "code",
   "execution_count": 14,
   "metadata": {},
   "outputs": [
    {
     "name": "stderr",
     "output_type": "stream",
     "text": [
      "/home/zhangvwk/.local/lib/python3.5/site-packages/sklearn/linear_model/logistic.py:432: FutureWarning: Default solver will be changed to 'lbfgs' in 0.22. Specify a solver to silence this warning.\n",
      "  FutureWarning)\n"
     ]
    },
    {
     "name": "stdout",
     "output_type": "stream",
     "text": [
      "KLR_anova method achieves 0.692 bal_orig accuracy.\n"
     ]
    }
   ],
   "source": [
    "K_train = anova_kernel(X_std['bal_orig'][:1000])\n",
    "clf = Pipeline([('nys', Nystroem(n_components=100)),\n",
    "                ('lr', LogisticRegression())])\n",
    "clf.fit(K_train, Y['bal_orig'][:1000])\n",
    "\n",
    "K_test = anova_kernel(X_std['test'][:1000], X_std['bal_orig'][:1000])\n",
    "# preds = clf.predict(K_test)\n",
    "print_score('KLR_anova', clf, K_test, Y['test'][:1000], 'bal_orig')"
   ]
  },
  {
   "cell_type": "code",
   "execution_count": 15,
   "metadata": {},
   "outputs": [
    {
     "name": "stdout",
     "output_type": "stream",
     "text": [
      "tp, fp, fn, tp = (466, 246, 62, 226)\n",
      "Precision:  0.4788135593220339\n",
      "Recall:  0.7847222222222222\n",
      "Specificity:  0.6544943820224719\n",
      "F1:  0.5947368421052631\n"
     ]
    },
    {
     "data": {
      "image/png": "[encoded data removed]",
      "text/plain": [
       "<Figure size 432x288 with 1 Axes>"
      ]
     },
     "metadata": {
      "needs_background": "light"
     },
     "output_type": "display_data"
    }
   ],
   "source": [
    "evaluate(clf, K_test, Y['test'][:1000], filename='klr_anova_1000')"
   ]
  },
  {
   "cell_type": "markdown",
   "metadata": {},
   "source": [
    "# SVM"
   ]
  },
  {
   "cell_type": "markdown",
   "metadata": {},
   "source": [
    "### train_orig"
   ]
  },
  {
   "cell_type": "code",
   "execution_count": null,
   "metadata": {},
   "outputs": [
    {
     "name": "stdout",
     "output_type": "stream",
     "text": [
      "[LibSVM]"
     ]
    }
   ],
   "source": [
    "x_train_orig_sub = X['train_orig']\n",
    "y_train_orig_sub = Y['train_orig']\n",
    "\n",
    "# for set_type in set_types:\n",
    "#     print(\"Set: \", set_type)\n",
    "svm_rbf = SVC(gamma='auto', verbose=1).fit(x_train_orig_sub, y_train_orig_sub)\n",
    "    # svm_rbf = SVC(gamma='auto').fit(X, Y)\n",
    "\n",
    "svm_rbf.score(x_train_orig_sub, y_train_orig_sub)"
   ]
  },
  {
   "cell_type": "code",
   "execution_count": null,
   "metadata": {},
   "outputs": [],
   "source": [
    "print_score('svm_rbf', svm_rbf, X['test'], Y['test'], 'test')\n",
    "evaluate(svm_rbf, X['test'], Y['test'])"
   ]
  },
  {
   "cell_type": "markdown",
   "metadata": {},
   "source": [
    "Observations: no convergence on the train_orig training set after multiple hours of training, too many samples."
   ]
  },
  {
   "cell_type": "markdown",
   "metadata": {},
   "source": [
    "### bal_orig"
   ]
  },
  {
   "cell_type": "code",
   "execution_count": 134,
   "metadata": {},
   "outputs": [
    {
     "name": "stdout",
     "output_type": "stream",
     "text": [
      "[LibSVM]"
     ]
    },
    {
     "data": {
      "text/plain": [
       "0.7329"
      ]
     },
     "execution_count": 134,
     "metadata": {},
     "output_type": "execute_result"
    }
   ],
   "source": [
    "x_train_orig_sub = X_std['bal_imp'][:10000]\n",
    "y_train_orig_sub = Y['bal_imp'][:10000]\n",
    "\n",
    "svm_rbf = SVC(kernel='linear', gamma='auto', verbose=1).fit(x_train_orig_sub, y_train_orig_sub)\n",
    "svm_rbf.score(x_train_orig_sub, y_train_orig_sub)"
   ]
  },
  {
   "cell_type": "code",
   "execution_count": 135,
   "metadata": {},
   "outputs": [
    {
     "name": "stdout",
     "output_type": "stream",
     "text": [
      "svm_rbf method achieves 0.7329 bal_imp accuracy.\n",
      "svm_rbf method achieves 0.6911773201736852 test accuracy.\n",
      "tp, fp, fn, tp = (470090, 220727, 142216, 548601)\n",
      "Precision:  0.713091165276709\n",
      "Recall:  0.794133612809181\n",
      "Specificity:  0.6804841224231598\n",
      "F1:  0.7514335904995737\n",
      "tp, fp, fn, tp = (187812, 114507, 19132, 111286)\n",
      "Precision:  0.4928673608127798\n",
      "Recall:  0.8533024582496281\n",
      "Specificity:  0.6212378315620255\n",
      "F1:  0.6248319114232856\n"
     ]
    }
   ],
   "source": [
    "print_score('svm_rbf', svm_rbf, x_train_orig_sub, y_train_orig_sub, 'bal_imp')\n",
    "print_score('svm_rbf', svm_rbf, X_std['test'], Y['test'], 'test')\n",
    "\n",
    "evaluate(svm_rbf, X_std['bal_imp'], Y['bal_imp'], filename='svm_sig_1000_std_bal_orig')\n",
    "evaluate(svm_rbf, X_std['test'], Y['test'], filename='svm_sig_1000_std_bal_orig')"
   ]
  },
  {
   "cell_type": "markdown",
   "metadata": {},
   "source": [
    "# Random forest"
   ]
  },
  {
   "cell_type": "markdown",
   "metadata": {},
   "source": [
    "### train_orig"
   ]
  },
  {
   "cell_type": "code",
   "execution_count": null,
   "metadata": {},
   "outputs": [],
   "source": [
    "# RANDOM FOREST ###\n",
    "from sklearn.ensemble import RandomForestClassifier\n",
    "n_est = 10\n",
    "rfc = RandomForestClassifier(n_estimators=n_est, max_depth=2, random_state=0)\n",
    "rfc.fit(X['train_orig'], Y['train_orig'])"
   ]
  },
  {
   "cell_type": "code",
   "execution_count": 14,
   "metadata": {},
   "outputs": [
    {
     "name": "stdout",
     "output_type": "stream",
     "text": [
      "rfc_10 method achieves 0.6986206402503137 test accuracy.\n"
     ]
    }
   ],
   "source": [
    "rfc.score(X['train_orig'], Y['train_orig'])\n",
    "print_score('rfc_{}'.format(n_est), rfc, X['test'], Y['test'], 'test')"
   ]
  },
  {
   "cell_type": "code",
   "execution_count": 15,
   "metadata": {},
   "outputs": [
    {
     "name": "stdout",
     "output_type": "stream",
     "text": [
      "tp, fp, fn, tp = (41, 0, 59, 0)\n",
      "Precision:  nan\n",
      "Recall:  0.0\n",
      "Specificity:  1.0\n",
      "F1:  0.0\n"
     ]
    },
    {
     "name": "stderr",
     "output_type": "stream",
     "text": [
      "/home/zhangvwk/.local/lib/python3.5/site-packages/ipykernel_launcher.py:7: RuntimeWarning: invalid value encountered in long_scalars\n",
      "  import sys\n"
     ]
    }
   ],
   "source": [
    "evaluate(rfc, X['test'][:100,], Y['test'][:100,])"
   ]
  },
  {
   "cell_type": "markdown",
   "metadata": {},
   "source": [
    "Observations: worst results possible. Misclassifies the minority class entirely."
   ]
  },
  {
   "cell_type": "markdown",
   "metadata": {},
   "source": [
    "### bal_orig"
   ]
  },
  {
   "cell_type": "code",
   "execution_count": 136,
   "metadata": {},
   "outputs": [],
   "source": [
    "from sklearn.ensemble import RandomForestClassifier"
   ]
  },
  {
   "cell_type": "code",
   "execution_count": 137,
   "metadata": {},
   "outputs": [
    {
     "data": {
      "text/plain": [
       "RandomForestClassifier(bootstrap=True, class_weight='balanced_subsample',\n",
       "                       criterion='gini', max_depth=2, max_features='auto',\n",
       "                       max_leaf_nodes=None, min_impurity_decrease=0.0,\n",
       "                       min_impurity_split=None, min_samples_leaf=1,\n",
       "                       min_samples_split=2, min_weight_fraction_leaf=0.0,\n",
       "                       n_estimators=100, n_jobs=None, oob_score=False,\n",
       "                       random_state=0, verbose=0, warm_start=False)"
      ]
     },
     "execution_count": 137,
     "metadata": {},
     "output_type": "execute_result"
    }
   ],
   "source": [
    "n_est = 100\n",
    "rfc = RandomForestClassifier(n_estimators=n_est, max_depth=2, random_state=0, class_weight='balanced_subsample')\n",
    "rfc.fit(X_std['bal_imp'], Y['bal_imp'])"
   ]
  },
  {
   "cell_type": "code",
   "execution_count": 138,
   "metadata": {},
   "outputs": [
    {
     "name": "stdout",
     "output_type": "stream",
     "text": [
      "rfc_100 method achieves 0.7140024058469898 bal_imp accuracy.\n",
      "rfc_100 method achieves 0.6542796201850084 test accuracy.\n"
     ]
    }
   ],
   "source": [
    "print_score('rfc_{}'.format(n_est), rfc, X_std['bal_imp'], Y['bal_imp'], 'bal_imp')\n",
    "print_score('rfc_{}'.format(n_est), rfc, X_std['test'], Y['test'], 'test')"
   ]
  },
  {
   "cell_type": "code",
   "execution_count": 139,
   "metadata": {},
   "outputs": [
    {
     "name": "stdout",
     "output_type": "stream",
     "text": [
      "tp, fp, fn, tp = (413313, 277504, 117640, 573177)\n",
      "Precision:  0.673786060814806\n",
      "Recall:  0.829708880933735\n",
      "Specificity:  0.5982959307602448\n",
      "F1:  0.7436623336520709\n",
      "tp, fp, fn, tp = (173477, 128842, 20764, 109654)\n",
      "Precision:  0.4597729102374883\n",
      "Recall:  0.8407888481651306\n",
      "Specificity:  0.573821030103963\n",
      "F1:  0.5944691716768677\n"
     ]
    }
   ],
   "source": [
    "evaluate(rfc, X_std['bal_imp'], Y['bal_imp'], filename='rfc_100_bal_orig')\n",
    "evaluate(rfc, X_std['test'], Y['test'], filename='rfc_100_bal_orig')"
   ]
  },
  {
   "cell_type": "markdown",
   "metadata": {},
   "source": [
    "# AdaBoost"
   ]
  },
  {
   "cell_type": "code",
   "execution_count": 152,
   "metadata": {},
   "outputs": [],
   "source": [
    "from sklearn.ensemble import AdaBoostClassifier\n",
    "from sklearn.tree import DecisionTreeClassifier"
   ]
  },
  {
   "cell_type": "code",
   "execution_count": 158,
   "metadata": {},
   "outputs": [
    {
     "data": {
      "text/plain": [
       "AdaBoostClassifier(algorithm='SAMME.R',\n",
       "                   base_estimator=DecisionTreeClassifier(class_weight=None,\n",
       "                                                         criterion='gini',\n",
       "                                                         max_depth=1,\n",
       "                                                         max_features=None,\n",
       "                                                         max_leaf_nodes=None,\n",
       "                                                         min_impurity_decrease=0.0,\n",
       "                                                         min_impurity_split=None,\n",
       "                                                         min_samples_leaf=1,\n",
       "                                                         min_samples_split=2,\n",
       "                                                         min_weight_fraction_leaf=0.0,\n",
       "                                                         presort=False,\n",
       "                                                         random_state=None,\n",
       "                                                         splitter='best'),\n",
       "                   learning_rate=1.0, n_estimators=100, random_state=0)"
      ]
     },
     "execution_count": 158,
     "metadata": {},
     "output_type": "execute_result"
    }
   ],
   "source": [
    "n_est = 100\n",
    "adab = AdaBoostClassifier(DecisionTreeClassifier(max_depth=1), n_estimators=n_est, random_state=0)\n",
    "# adab = AdaBoostClassifier(base_estimator=LogisticRegression(solver='liblinear'), n_estimators=n_est, random_state=0)\n",
    "# adab.fit(X_std['bal_imp'], Y['bal_imp'])  \n",
    "adab.fit(X['train_orig'], Y['train_orig'])"
   ]
  },
  {
   "cell_type": "code",
   "execution_count": 161,
   "metadata": {},
   "outputs": [
    {
     "name": "stdout",
     "output_type": "stream",
     "text": [
      "adab_100 method achieves 0.7502269350908765 bal_orig accuracy.\n",
      "adab_100 method achieves 0.5616945165308259 test accuracy.\n"
     ]
    }
   ],
   "source": [
    "print_score('adab_{}'.format(n_est), adab, X['train_orig'], Y['train_orig'], 'bal_orig')\n",
    "# print_score('adab_{}'.format(n_est), adab, X_std['bal_imp'], Y['bal_imp'], 'train_imp')\n",
    "print_score('adab_{}'.format(n_est), adab, X_std['test'], Y['test'], 'test')"
   ]
  },
  {
   "cell_type": "code",
   "execution_count": 162,
   "metadata": {},
   "outputs": [
    {
     "name": "stdout",
     "output_type": "stream",
     "text": [
      "tp, fp, fn, tp = (479192, 715995, 37888, 525137)\n",
      "Precision:  0.4231113209553859\n",
      "Recall:  0.9327063629501354\n",
      "Specificity:  0.4009347491229406\n",
      "F1:  0.5821411329501812\n",
      "tp, fp, fn, tp = (123062, 179257, 10414, 120004)\n",
      "Precision:  0.4010011327904405\n",
      "Recall:  0.9201490591789477\n",
      "Specificity:  0.4070600921543138\n",
      "F1:  0.5585751223587841\n"
     ]
    }
   ],
   "source": [
    "# evaluate(adab, X_std['bal_imp'], Y['bal_imp'], filename='adab_lrl2100_bal_orig_100')\n",
    "evaluate(adab, X_std['train_orig'], Y['train_orig'], filename='adab_lrl2100_bal_orig_100')\n",
    "evaluate(adab, X_std['test'], Y['test'], filename='adab_lrl2100_bal_orig_100')"
   ]
  },
  {
   "cell_type": "markdown",
   "metadata": {},
   "source": [
    "# MLP"
   ]
  },
  {
   "cell_type": "code",
   "execution_count": 144,
   "metadata": {},
   "outputs": [],
   "source": [
    "from sklearn.neural_network import MLPClassifier"
   ]
  },
  {
   "cell_type": "code",
   "execution_count": 145,
   "metadata": {},
   "outputs": [],
   "source": [
    "layers = (5,5,5,5)"
   ]
  },
  {
   "cell_type": "code",
   "execution_count": 146,
   "metadata": {},
   "outputs": [],
   "source": [
    "### L2 regularization ###\n",
    "mlp = MLPClassifier(hidden_layer_sizes=layers, max_iter=200,\n",
    "                    solver='adam', verbose=10)"
   ]
  },
  {
   "cell_type": "code",
   "execution_count": 147,
   "metadata": {},
   "outputs": [
    {
     "name": "stdout",
     "output_type": "stream",
     "text": [
      "Iteration 1, loss = 0.52930621\n",
      "Iteration 2, loss = 0.51932865\n",
      "Iteration 3, loss = 0.51824316\n",
      "Iteration 4, loss = 0.51790070\n",
      "Iteration 5, loss = 0.51776294\n",
      "Iteration 6, loss = 0.51753254\n",
      "Iteration 7, loss = 0.51741712\n",
      "Iteration 8, loss = 0.51729926\n",
      "Iteration 9, loss = 0.51720142\n",
      "Iteration 10, loss = 0.51714240\n",
      "Iteration 11, loss = 0.51710636\n",
      "Iteration 12, loss = 0.51701980\n",
      "Iteration 13, loss = 0.51692465\n",
      "Iteration 14, loss = 0.51690271\n",
      "Iteration 15, loss = 0.51689876\n",
      "Iteration 16, loss = 0.51680493\n",
      "Iteration 17, loss = 0.51682682\n",
      "Iteration 18, loss = 0.51679778\n",
      "Iteration 19, loss = 0.51676732\n",
      "Training loss did not improve more than tol=0.000100 for 10 consecutive epochs. Stopping.\n"
     ]
    },
    {
     "data": {
      "text/plain": [
       "MLPClassifier(activation='relu', alpha=0.0001, batch_size='auto', beta_1=0.9,\n",
       "              beta_2=0.999, early_stopping=False, epsilon=1e-08,\n",
       "              hidden_layer_sizes=(5, 5, 5, 5), learning_rate='constant',\n",
       "              learning_rate_init=0.001, max_iter=200, momentum=0.9,\n",
       "              n_iter_no_change=10, nesterovs_momentum=True, power_t=0.5,\n",
       "              random_state=None, shuffle=True, solver='adam', tol=0.0001,\n",
       "              validation_fraction=0.1, verbose=10, warm_start=False)"
      ]
     },
     "execution_count": 147,
     "metadata": {},
     "output_type": "execute_result"
    }
   ],
   "source": [
    "mlp.fit(X_std['bal_imp'], Y['bal_imp'])"
   ]
  },
  {
   "cell_type": "code",
   "execution_count": 148,
   "metadata": {},
   "outputs": [
    {
     "name": "stdout",
     "output_type": "stream",
     "text": [
      "mlp_(5, 5, 5, 5) method achieves 0.7429022447334098 bal_imp accuracy.\n",
      "mlp_(5, 5, 5, 5) method achieves 0.6909970721246392 test accuracy.\n"
     ]
    }
   ],
   "source": [
    "print_score('mlp_{}'.format(str(layers)), mlp, X_std['bal_imp'], Y['bal_imp'], 'bal_imp')\n",
    "print_score('mlp_{}'.format(str(layers)), mlp, X_std['test'], Y['test'], 'test')"
   ]
  },
  {
   "cell_type": "code",
   "execution_count": 149,
   "metadata": {},
   "outputs": [
    {
     "name": "stdout",
     "output_type": "stream",
     "text": [
      "tp, fp, fn, tp = (186685, 115634, 18083, 112335)\n",
      "Precision:  0.4927643670849984\n",
      "Recall:  0.8613458264963425\n",
      "Specificity:  0.617509981178821\n",
      "F1:  0.6268921584767304\n",
      "tp, fp, fn, tp = (464227, 226590, 128625, 562192)\n",
      "Precision:  0.7127343169595655\n",
      "Recall:  0.813807419331024\n",
      "Specificity:  0.6719970701357957\n",
      "F1:  0.7599248174674355\n"
     ]
    }
   ],
   "source": [
    "evaluate(mlp, X_std['test'], Y['test'], filename='mlp_101010_bal_orig_200')\n",
    "evaluate(mlp, X_std['bal_imp'], Y['bal_imp'], filename='mlp_101010_bal_orig_200')"
   ]
  },
  {
   "cell_type": "code",
   "execution_count": 150,
   "metadata": {},
   "outputs": [],
   "source": [
    "from sklearn.metrics import confusion_matrix\n",
    "from sklearn.utils.multiclass import unique_labels"
   ]
  },
  {
   "cell_type": "code",
   "execution_count": 151,
   "metadata": {},
   "outputs": [
    {
     "name": "stdout",
     "output_type": "stream",
     "text": [
      "Normalized confusion matrix\n",
      "[[0.62 0.38]\n",
      " [0.14 0.86]]\n"
     ]
    },
    {
     "data": {
      "image/png": "[encoded data removed]",
      "text/plain": [
       "<Figure size 432x288 with 2 Axes>"
      ]
     },
     "metadata": {
      "needs_background": "light"
     },
     "output_type": "display_data"
    }
   ],
   "source": [
    "def plot_confusion_matrix(y_true, y_pred, classes,\n",
    "                          normalize=False,\n",
    "                          title=None,\n",
    "                          cmap=plt.cm.Blues):\n",
    "    \"\"\"\n",
    "    This function prints and plots the confusion matrix.\n",
    "    Normalization can be applied by setting `normalize=True`.\n",
    "    \"\"\"\n",
    "    if not title:\n",
    "        if normalize:\n",
    "            title = 'Normalized confusion matrix'\n",
    "        else:\n",
    "            title = 'Confusion matrix, without normalization'\n",
    "\n",
    "    # Compute confusion matrix\n",
    "    cm = confusion_matrix(y_true, y_pred)\n",
    "    # Only use the labels that appear in the data\n",
    "    classes = classes[unique_labels(y_true, y_pred)]\n",
    "    if normalize:\n",
    "        cm = cm.astype('float') / cm.sum(axis=1)[:, np.newaxis]\n",
    "        print(\"Normalized confusion matrix\")\n",
    "    else:\n",
    "        print('Confusion matrix, without normalization')\n",
    "\n",
    "    print(cm)\n",
    "\n",
    "    fig, ax = plt.subplots()\n",
    "    im = ax.imshow(cm, interpolation='nearest', cmap=cmap)\n",
    "    ax.figure.colorbar(im, ax=ax)\n",
    "    # We want to show all ticks...\n",
    "    ax.set(xticks=np.arange(cm.shape[1]),\n",
    "           yticks=np.arange(cm.shape[0]),\n",
    "           # ... and label them with the respective list entries\n",
    "           xticklabels=classes, yticklabels=classes,\n",
    "           title=title,\n",
    "           ylabel='True label',\n",
    "           xlabel='Predicted label')\n",
    "\n",
    "    # Rotate the tick labels and set their alignment.\n",
    "    plt.setp(ax.get_xticklabels(), rotation=45, ha=\"right\",\n",
    "             rotation_mode=\"anchor\")\n",
    "\n",
    "    # Loop over data dimensions and create text annotations.\n",
    "    fmt = '.2f' if normalize else 'd'\n",
    "    thresh = cm.max() / 2.\n",
    "    for i in range(cm.shape[0]):\n",
    "        for j in range(cm.shape[1]):\n",
    "            ax.text(j, i, format(cm[i, j], fmt),\n",
    "                    ha=\"center\", va=\"center\",\n",
    "                    color=\"white\" if cm[i, j] > thresh else \"black\")\n",
    "    fig.tight_layout()\n",
    "    return ax\n",
    "\n",
    "y_pred = mlp.predict(X_std['test'])\n",
    "y_test = Y['test']\n",
    "class_names = np.array(['not onsight','onsight'])\n",
    "np.set_printoptions(precision=2)\n",
    "\n",
    "# Plot non-normalized confusion matrix\n",
    "# plot_confusion_matrix(y_test, y_pred, classes=class_names,\n",
    "#                       title='Confusion matrix, without normalization')\n",
    "\n",
    "# Plot normalized confusion matrix\n",
    "plot_confusion_matrix(y_test, y_pred, classes=class_names, normalize=True,\n",
    "                      title='Normalized confusion matrix')\n",
    "plt.tight_layout()\n",
    "plt.savefig('confusion.eps')"
   ]
  },
  {
   "cell_type": "code",
   "execution_count": 88,
   "metadata": {},
   "outputs": [],
   "source": [
    "### Early stopping ###\n",
    "mlp = MLPClassifier(hidden_layer_sizes=layers, max_iter=200, early_stopping=True,\n",
    "                    solver='adam', verbose=10)"
   ]
  },
  {
   "cell_type": "code",
   "execution_count": 89,
   "metadata": {},
   "outputs": [
    {
     "name": "stdout",
     "output_type": "stream",
     "text": [
      "Iteration 1, loss = 0.51327961\n",
      "Validation score: 0.750394\n",
      "Iteration 2, loss = 0.50694317\n",
      "Validation score: 0.751887\n",
      "Iteration 3, loss = 0.50562299\n",
      "Validation score: 0.751807\n",
      "Iteration 4, loss = 0.50490985\n",
      "Validation score: 0.752122\n",
      "Iteration 5, loss = 0.50453388\n",
      "Validation score: 0.752881\n",
      "Iteration 6, loss = 0.50425773\n",
      "Validation score: 0.753196\n",
      "Iteration 7, loss = 0.50399632\n",
      "Validation score: 0.753325\n",
      "Iteration 8, loss = 0.50381714\n",
      "Validation score: 0.753292\n",
      "Iteration 9, loss = 0.50366442\n",
      "Validation score: 0.753365\n",
      "Iteration 10, loss = 0.50343643\n",
      "Validation score: 0.753454\n",
      "Iteration 11, loss = 0.50329028\n",
      "Validation score: 0.753963\n",
      "Iteration 12, loss = 0.50318851\n",
      "Validation score: 0.754019\n",
      "Iteration 13, loss = 0.50305421\n",
      "Validation score: 0.753551\n",
      "Iteration 14, loss = 0.50298360\n",
      "Validation score: 0.754245\n",
      "Iteration 15, loss = 0.50291286\n",
      "Validation score: 0.752122\n",
      "Iteration 16, loss = 0.50278485\n",
      "Validation score: 0.752760\n",
      "Iteration 17, loss = 0.50274225\n",
      "Validation score: 0.753406\n",
      "Iteration 18, loss = 0.50271945\n",
      "Validation score: 0.754060\n",
      "Iteration 19, loss = 0.50256863\n",
      "Validation score: 0.754463\n",
      "Iteration 20, loss = 0.50253294\n",
      "Validation score: 0.754423\n",
      "Iteration 21, loss = 0.50243168\n",
      "Validation score: 0.754544\n",
      "Iteration 22, loss = 0.50242124\n",
      "Validation score: 0.753971\n",
      "Iteration 23, loss = 0.50237427\n",
      "Validation score: 0.754544\n",
      "Iteration 24, loss = 0.50231112\n",
      "Validation score: 0.754108\n",
      "Iteration 25, loss = 0.50230252\n",
      "Validation score: 0.754302\n",
      "Iteration 26, loss = 0.50224674\n",
      "Validation score: 0.754181\n",
      "Iteration 27, loss = 0.50225314\n",
      "Validation score: 0.752743\n",
      "Iteration 28, loss = 0.50225796\n",
      "Validation score: 0.754173\n",
      "Iteration 29, loss = 0.50224768\n",
      "Validation score: 0.754528\n",
      "Iteration 30, loss = 0.50215945\n",
      "Validation score: 0.754068\n",
      "Validation score did not improve more than tol=0.000100 for 10 consecutive epochs. Stopping.\n"
     ]
    },
    {
     "data": {
      "text/plain": [
       "MLPClassifier(activation='relu', alpha=0.0001, batch_size='auto', beta_1=0.9,\n",
       "              beta_2=0.999, early_stopping=True, epsilon=1e-08,\n",
       "              hidden_layer_sizes=(10, 10, 10), learning_rate='constant',\n",
       "              learning_rate_init=0.001, max_iter=200, momentum=0.9,\n",
       "              n_iter_no_change=10, nesterovs_momentum=True, power_t=0.5,\n",
       "              random_state=None, shuffle=True, solver='adam', tol=0.0001,\n",
       "              validation_fraction=0.1, verbose=10, warm_start=False)"
      ]
     },
     "execution_count": 89,
     "metadata": {},
     "output_type": "execute_result"
    }
   ],
   "source": [
    "mlp.fit(X_std['bal_imp'], Y['bal_imp'])"
   ]
  },
  {
   "cell_type": "code",
   "execution_count": 90,
   "metadata": {},
   "outputs": [
    {
     "name": "stdout",
     "output_type": "stream",
     "text": [
      "mlp_(10, 10, 10) method achieves 0.7547409160535876 bal_imp accuracy.\n",
      "mlp_(10, 10, 10) method achieves 0.6929721681131633 test accuracy.\n"
     ]
    }
   ],
   "source": [
    "print_score('mlp_{}'.format(str(layers)), mlp, X_std['bal_imp'], Y['bal_imp'], 'bal_imp')\n",
    "print_score('mlp_{}'.format(str(layers)), mlp, X_std['test'], Y['test'], 'test')"
   ]
  },
  {
   "cell_type": "code",
   "execution_count": 91,
   "metadata": {},
   "outputs": [
    {
     "name": "stdout",
     "output_type": "stream",
     "text": [
      "tp, fp, fn, tp = (168722, 105300, 15120, 103070)\n",
      "Precision:  0.49464894178624563\n",
      "Recall:  0.8720703951264912\n",
      "Specificity:  0.6157242849114305\n",
      "F1:  0.6312469377756001\n"
     ]
    }
   ],
   "source": [
    "evaluate(mlp, X_std['test'], Y['test'], filename='mlp_101010_bal_orig_200_ES')"
   ]
  },
  {
   "cell_type": "markdown",
   "metadata": {},
   "source": [
    "Observations: layers (50, ) outperforms (50,50) in test accuracy (probably overfits) and other relevant metrics."
   ]
  },
  {
   "cell_type": "code",
   "execution_count": null,
   "metadata": {},
   "outputs": [],
   "source": []
  }
 ],
 "metadata": {
  "kernelspec": {
   "display_name": "Python 3",
   "language": "python",
   "name": "python3"
  },
  "language_info": {
   "codemirror_mode": {
    "name": "ipython",
    "version": 3
   },
   "file_extension": ".py",
   "mimetype": "text/x-python",
   "name": "python",
   "nbconvert_exporter": "python",
   "pygments_lexer": "ipython3",
   "version": "3.5.2"
  }
 },
 "nbformat": 4,
 "nbformat_minor": 2
}
