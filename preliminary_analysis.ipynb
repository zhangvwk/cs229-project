{
 "cells": [
  {
   "cell_type": "code",
   "execution_count": 1,
   "metadata": {},
   "outputs": [],
   "source": [
    "import pandas as pd\n",
    "import numpy as np\n",
    "import json\n",
    "import matplotlib\n",
    "import matplotlib.pyplot as plt"
   ]
  },
  {
   "cell_type": "code",
   "execution_count": 2,
   "metadata": {},
   "outputs": [],
   "source": [
    "def read_json(filename):\n",
    "    with open(filename, 'r') as f:\n",
    "        datastore = json.load(f)\n",
    "        return datastore"
   ]
  },
  {
   "cell_type": "code",
   "execution_count": 3,
   "metadata": {},
   "outputs": [
    {
     "name": "stderr",
     "output_type": "stream",
     "text": [
      "/home/zhangvwk/.local/lib/python3.5/site-packages/numpy/lib/arraysetops.py:571: FutureWarning: elementwise comparison failed; returning scalar instead, but in the future will perform elementwise comparison\n",
      "  mask |= (ar1 == a)\n"
     ]
    }
   ],
   "source": [
    "folder = 'data/'\n",
    "filename = {'train_orig': 'ds_train_orig.csv',\n",
    "            'train_imp': 'ds_train_imp.csv',\n",
    "            'test': 'ds_test.csv'}\n",
    "df = {}\n",
    "for set_type in filename:\n",
    "    df[set_type] = pd.read_csv(folder + filename[set_type], index_col=0)"
   ]
  },
  {
   "cell_type": "code",
   "execution_count": 4,
   "metadata": {},
   "outputs": [],
   "source": [
    "### UNDERSAMPLING THE MINORITY CLASS ###\n",
    "def undersample(df):\n",
    "    no_onsight = len(df[df['is_onsight'] == 1])\n",
    "    non_onsight_indices = df[df['is_onsight'] == 0].index\n",
    "    random_indices = np.random.choice(non_onsight_indices, no_onsight, replace=False)\n",
    "    onsight_indices = df[df['is_onsight'] == 1].index\n",
    "    under_sample_indices = np.concatenate([onsight_indices,random_indices])\n",
    "    under_sample = df.loc[under_sample_indices]\n",
    "    return under_sample"
   ]
  },
  {
   "cell_type": "code",
   "execution_count": 13,
   "metadata": {},
   "outputs": [
    {
     "name": "stdout",
     "output_type": "stream",
     "text": [
      "<class 'pandas.core.frame.DataFrame'>\n",
      "Int64Index: 1126050 entries, 6 to 639120\n",
      "Data columns (total 10 columns):\n",
      "user_id          1126050 non-null int64\n",
      "country          1126050 non-null int64\n",
      "is_female        1126050 non-null int64\n",
      "height           1126050 non-null float64\n",
      "started          1126050 non-null float64\n",
      "birth            1126050 non-null float64\n",
      "grade_id         1126050 non-null int64\n",
      "is_onsight       1126050 non-null int64\n",
      "is_bouldering    1126050 non-null int64\n",
      "year             1126050 non-null int64\n",
      "dtypes: float64(3), int64(7)\n",
      "memory usage: 94.5 MB\n"
     ]
    }
   ],
   "source": [
    "bal_orig = undersample(df['train_orig'])\n",
    "bal_imp = undersample(df['train_imp'])"
   ]
  },
  {
   "cell_type": "code",
   "execution_count": 14,
   "metadata": {},
   "outputs": [],
   "source": [
    "under_sample.to_csv('balanced_orig.csv')"
   ]
  },
  {
   "cell_type": "code",
   "execution_count": 4,
   "metadata": {},
   "outputs": [
    {
     "name": "stdout",
     "output_type": "stream",
     "text": [
      "*********************************\n",
      "************ Set: train_orig \n",
      "*********************************\n",
      "0    70.590577\n",
      "1    29.409423\n",
      "Name: is_bouldering, dtype: float64\n",
      "--------------------------------\n",
      "0    67.977411\n",
      "1    32.022589\n",
      "Name: is_onsight, dtype: float64\n",
      "--------------------------------\n",
      "0    92.08207\n",
      "1     7.91793\n",
      "Name: is_female, dtype: float64\n",
      "*********************************\n",
      "************ Set: train_imp \n",
      "*********************************\n",
      "0    71.016153\n",
      "1    28.983847\n",
      "Name: is_bouldering, dtype: float64\n",
      "--------------------------------\n",
      "0    68.194371\n",
      "1    31.805629\n",
      "Name: is_onsight, dtype: float64\n",
      "--------------------------------\n",
      "0    89.506472\n",
      "1    10.493528\n",
      "Name: is_female, dtype: float64\n",
      "*********************************\n",
      "************ Set: test \n",
      "*********************************\n",
      "0    69.155399\n",
      "1    30.844601\n",
      "Name: is_bouldering, dtype: float64\n",
      "--------------------------------\n",
      "0    69.862064\n",
      "1    30.137936\n",
      "Name: is_onsight, dtype: float64\n",
      "--------------------------------\n",
      "0    90.63519\n",
      "1     9.36481\n",
      "Name: is_female, dtype: float64\n"
     ]
    }
   ],
   "source": [
    "# Proportion of is_bouldering \n",
    "for set_type in df:\n",
    "    print(\"*********************************\")\n",
    "    print(\"************ Set: {} \".format(set_type))\n",
    "    print(\"*********************************\")\n",
    "    print(df[set_type]['is_bouldering'].value_counts(normalize=True) * 100)\n",
    "    print(\"--------------------------------\")\n",
    "    # Proportion of is_onsight \n",
    "    print(df[set_type]['is_onsight'].value_counts(normalize=True) * 100)\n",
    "    print(\"--------------------------------\")\n",
    "    # Proportion of is_female \n",
    "    print(df[set_type]['is_female'].value_counts(normalize=True) * 100)"
   ]
  },
  {
   "cell_type": "markdown",
   "metadata": {},
   "source": [
    "Skewed towards lead climbing, non onsight ascents, and male."
   ]
  },
  {
   "cell_type": "code",
   "execution_count": 65,
   "metadata": {},
   "outputs": [
    {
     "name": "stdout",
     "output_type": "stream",
     "text": [
      "*********************************\n",
      "************ Set: train_orig \n",
      "*********************************\n",
      "Top 20 represented countries:\n",
      "            %  country_id country\n",
      "0   13.105644          21     ESP\n",
      "1   12.667244           1     USA\n",
      "2    9.520069          17     POL\n",
      "3    6.664327           8     DEU\n",
      "4    6.240601          14     ITA\n",
      "5    5.721722           0     SWE\n",
      "6    5.327913          15     FRA\n",
      "7    3.901350          26     BRA\n",
      "8    3.570218           7     AUT\n",
      "9    3.267524           3     NOR\n",
      "10   2.879744          24     CHE\n",
      "11   2.679085           9     CAN\n",
      "12   2.356769          13     GBR\n",
      "13   2.193478           4     NLD\n",
      "14   1.748310          12     SVN\n",
      "15   1.733295          20     ZAF\n",
      "16   1.642237           2     AUS\n",
      "17   1.513071           5     BEL\n",
      "18   1.386750           6     PRT\n",
      "19   1.247688          45     RUS\n",
      "There are in total 209 countries represented in this dataset.\n",
      "The top 10 represented countries take up 69.98661139839793 % of the entire dataset.\n",
      "*********************************\n",
      "************ Set: train_imp \n",
      "*********************************\n",
      "Top 20 represented countries:\n",
      "            %  country_id country\n",
      "0   13.501590          21     ESP\n",
      "1   11.520647           1     USA\n",
      "2    9.908444          17     POL\n",
      "3    7.565576           8     DEU\n",
      "4    6.274229          14     ITA\n",
      "5    5.453279           0     SWE\n",
      "6    5.427358          15     FRA\n",
      "7    4.000974           7     AUT\n",
      "8    3.748349          26     BRA\n",
      "9    3.618147           3     NOR\n",
      "10   3.249315          24     CHE\n",
      "11   2.380299           9     CAN\n",
      "12   2.298761          13     GBR\n",
      "13   2.144065           4     NLD\n",
      "14   1.673438          20     ZAF\n",
      "15   1.662342          12     SVN\n",
      "16   1.550325           2     AUS\n",
      "17   1.461927           5     BEL\n",
      "18   1.310914           6     PRT\n",
      "19   1.214965          45     RUS\n",
      "There are in total 209 countries represented in this dataset.\n",
      "The top 10 represented countries take up 71.01859303608293 % of the entire dataset.\n",
      "*********************************\n",
      "************ Set: test \n",
      "*********************************\n",
      "Top 20 represented countries:\n",
      "            %  country_id country\n",
      "0   12.756478          21     ESP\n",
      "1   11.797928           1     USA\n",
      "2   10.211976          17     POL\n",
      "3    6.928920           8     DEU\n",
      "4    6.619263          14     ITA\n",
      "5    5.058038           0     SWE\n",
      "6    4.619665          15     FRA\n",
      "7    3.912769           7     AUT\n",
      "8    3.667817           4     NLD\n",
      "9    3.430259          26     BRA\n",
      "10   3.293918           3     NOR\n",
      "11   2.650108          24     CHE\n",
      "12   2.432655           9     CAN\n",
      "13   2.417635           5     BEL\n",
      "14   1.994514          13     GBR\n",
      "15   1.811493          12     SVN\n",
      "16   1.617842          20     ZAF\n",
      "17   1.527949           2     AUS\n",
      "18   1.328983          45     RUS\n",
      "19   1.179238           6     PRT\n",
      "There are in total 209 countries represented in this dataset.\n",
      "The top 10 represented countries take up 69.00311274515467 % of the entire dataset.\n"
     ]
    }
   ],
   "source": [
    "for set_type in df:\n",
    "    print(\"*********************************\")\n",
    "    print(\"************ Set: {} \".format(set_type))\n",
    "    print(\"*********************************\")\n",
    "\n",
    "    # Proportion of countries\n",
    "    country_proportion = df[set_type]['country'].value_counts(normalize=True) * 100\n",
    "    # country_proportion.plot.bar()\n",
    "    # plt.show()\n",
    "    # country_proportion.cols\n",
    "    country_proportion = pd.DataFrame({'country_id':country_proportion.index, '%':country_proportion.values})\n",
    "    country2idx = read_json('data/country2idx.json')\n",
    "    idx2country = {v: k for k, v in country2idx.items()}\n",
    "    country_proportion['country'] = country_proportion['country_id'].map(idx2country)\n",
    "    n = 20\n",
    "    print(\"Top {} represented countries:\".format(n))\n",
    "    print(country_proportion.nlargest(n, '%'))\n",
    "    print(\"There are in total {} countries represented in this dataset.\".format(len(country2idx)))\n",
    "    print(\"The top 10 represented countries take up {} % of the entire dataset.\".format(country_proportion.nlargest(10, '%')['%'].sum()))"
   ]
  },
  {
   "cell_type": "markdown",
   "metadata": {},
   "source": [
    "No country from Asia and only one from Africa (South Africa) in the top 20."
   ]
  },
  {
   "cell_type": "code",
   "execution_count": 6,
   "metadata": {},
   "outputs": [],
   "source": [
    "def return_intersection(hist_1, hist_2):\n",
    "    minima = np.minimum(hist_1, hist_2)\n",
    "    intersection = np.true_divide(np.sum(minima), np.sum(hist_2))\n",
    "    return intersection\n",
    "\n",
    "def compare_hist(df, ranges, feature, bin_number=20):\n",
    "    print(\"************ Feature: {} ************\".format(feature))\n",
    "    hist = {}\n",
    "    for set_type in df:\n",
    "#         print(\"Set: \", set_type)\n",
    "        hist[set_type], _ = np.histogram(df[set_type][feature], bins=bin_number, range=ranges[feature], density=True)\n",
    "#         print(hist[set_type])\n",
    "    comparison_array = np.eye(len(df))\n",
    "    i = 0\n",
    "    j = 0\n",
    "    for set_type_1 in df:\n",
    "        for set_type_2 in df:\n",
    "            result = return_intersection(hist[set_type_1], hist[set_type_2])\n",
    "            print(i,j)\n",
    "            comparison_array[i,j] = result\n",
    "            print(\"{} - {}: {}.\".format(set_type_1, set_type_2, result))\n",
    "            j += 1\n",
    "            j %= len(df)\n",
    "        i += 1\n",
    "    return comparison_array"
   ]
  },
  {
   "cell_type": "code",
   "execution_count": 7,
   "metadata": {},
   "outputs": [
    {
     "name": "stdout",
     "output_type": "stream",
     "text": [
      "************ Feature: grade_id ************\n",
      "0 0\n",
      "train_imp - train_imp: 1.0.\n",
      "0 1\n",
      "train_imp - train_orig: 0.994365167936646.\n",
      "0 2\n",
      "train_imp - test: 0.9818177096546259.\n",
      "1 0\n",
      "train_orig - train_imp: 0.994365167936646.\n",
      "1 1\n",
      "train_orig - train_orig: 1.0.\n",
      "1 2\n",
      "train_orig - test: 0.9808718314826339.\n",
      "2 0\n",
      "test - train_imp: 0.9818177096546258.\n",
      "2 1\n",
      "test - train_orig: 0.9808718314826338.\n",
      "2 2\n",
      "test - test: 1.0.\n",
      "************ Feature: birth ************\n",
      "0 0\n",
      "train_imp - train_imp: 1.0.\n",
      "0 1\n",
      "train_imp - train_orig: 0.9891911848161419.\n",
      "0 2\n",
      "train_imp - test: 0.9756115571246041.\n",
      "1 0\n",
      "train_orig - train_imp: 0.9891911848161417.\n",
      "1 1\n",
      "train_orig - train_orig: 1.0.\n",
      "1 2\n",
      "train_orig - test: 0.9704996993470586.\n",
      "2 0\n",
      "test - train_imp: 0.9756115571246041.\n",
      "2 1\n",
      "test - train_orig: 0.9704996993470587.\n",
      "2 2\n",
      "test - test: 1.0.\n",
      "************ Feature: height ************\n",
      "0 0\n",
      "train_imp - train_imp: 1.0.\n",
      "0 1\n",
      "train_imp - train_orig: 0.9791447895185789.\n",
      "0 2\n",
      "train_imp - test: 0.957078649559737.\n",
      "1 0\n",
      "train_orig - train_imp: 0.9791447895185789.\n",
      "1 1\n",
      "train_orig - train_orig: 1.0.\n",
      "1 2\n",
      "train_orig - test: 0.9594835522296358.\n",
      "2 0\n",
      "test - train_imp: 0.9570786495597371.\n",
      "2 1\n",
      "test - train_orig: 0.959483552229636.\n",
      "2 2\n",
      "test - test: 1.0.\n",
      "************ Feature: started ************\n",
      "0 0\n",
      "train_imp - train_imp: 1.0.\n",
      "0 1\n",
      "train_imp - train_orig: 0.9718289332656549.\n",
      "0 2\n",
      "train_imp - test: 0.9575359012916993.\n",
      "1 0\n",
      "train_orig - train_imp: 0.9718289332656544.\n",
      "1 1\n",
      "train_orig - train_orig: 1.0.\n",
      "1 2\n",
      "train_orig - test: 0.9512440397007373.\n",
      "2 0\n",
      "test - train_imp: 0.9575359012916983.\n",
      "2 1\n",
      "test - train_orig: 0.9512440397007368.\n",
      "2 2\n",
      "test - test: 1.0.\n",
      "************ Feature: year ************\n",
      "0 0\n",
      "train_imp - train_imp: 1.0.\n",
      "0 1\n",
      "train_imp - train_orig: 0.9765212529220102.\n",
      "0 2\n",
      "train_imp - test: 0.9572810786059257.\n",
      "1 0\n",
      "train_orig - train_imp: 0.9765212529220105.\n",
      "1 1\n",
      "train_orig - train_orig: 1.0.\n",
      "1 2\n",
      "train_orig - test: 0.9758347207908782.\n",
      "2 0\n",
      "test - train_imp: 0.9572810786059267.\n",
      "2 1\n",
      "test - train_orig: 0.9758347207908787.\n",
      "2 2\n",
      "test - test: 1.0.\n"
     ]
    }
   ],
   "source": [
    "ranges = {'birth':[1940, 2010],\n",
    "          'year': [1980, 2017],\n",
    "          'started': [1970, 2017],\n",
    "          'height': [140, 210],\n",
    "          'grade_id': [0, 80]}\n",
    "comparison_array = {}\n",
    "for feature in ranges:\n",
    "    comparison_array[feature] = compare_hist(df, ranges, feature)"
   ]
  },
  {
   "cell_type": "code",
   "execution_count": 8,
   "metadata": {},
   "outputs": [],
   "source": [
    "def heatmap(data, row_labels, col_labels, ax=None,\n",
    "            cbar_kw={}, cbarlabel=\"\", **kwargs):\n",
    "    \"\"\"\n",
    "    Create a heatmap from a numpy array and two lists of labels.\n",
    "\n",
    "    Parameters\n",
    "    ----------\n",
    "    data\n",
    "        A 2D numpy array of shape (N, M).\n",
    "    row_labels\n",
    "        A list or array of length N with the labels for the rows.\n",
    "    col_labels\n",
    "        A list or array of length M with the labels for the columns.\n",
    "    ax\n",
    "        A `matplotlib.axes.Axes` instance to which the heatmap is plotted.  If\n",
    "        not provided, use current axes or create a new one.  Optional.\n",
    "    cbar_kw\n",
    "        A dictionary with arguments to `matplotlib.Figure.colorbar`.  Optional.\n",
    "    cbarlabel\n",
    "        The label for the colorbar.  Optional.\n",
    "    **kwargs\n",
    "        All other arguments are forwarded to `imshow`.\n",
    "    \"\"\"\n",
    "\n",
    "    if not ax:\n",
    "        ax = plt.gca()\n",
    "\n",
    "    # Plot the heatmap\n",
    "    im = ax.imshow(data, **kwargs)\n",
    "\n",
    "    # Create colorbar\n",
    "    cbar = ax.figure.colorbar(im, ax=ax, **cbar_kw)\n",
    "    cbar.ax.set_ylabel(cbarlabel, rotation=-90, va=\"bottom\")\n",
    "\n",
    "    # We want to show all ticks...\n",
    "    ax.set_xticks(np.arange(data.shape[1]))\n",
    "    ax.set_yticks(np.arange(data.shape[0]))\n",
    "    # ... and label them with the respective list entries.\n",
    "    ax.set_xticklabels(col_labels)\n",
    "    ax.set_yticklabels(row_labels)\n",
    "\n",
    "    # Let the horizontal axes labeling appear on top.\n",
    "    ax.tick_params(top=True, bottom=False,\n",
    "                   labeltop=True, labelbottom=False)\n",
    "\n",
    "    # Rotate the tick labels and set their alignment.\n",
    "    plt.setp(ax.get_xticklabels(), rotation=-30, ha=\"right\",\n",
    "             rotation_mode=\"anchor\")\n",
    "\n",
    "    # Turn spines off and create white grid.\n",
    "    for edge, spine in ax.spines.items():\n",
    "        spine.set_visible(False)\n",
    "\n",
    "    ax.set_xticks(np.arange(data.shape[1]+1)-.5, minor=True)\n",
    "    ax.set_yticks(np.arange(data.shape[0]+1)-.5, minor=True)\n",
    "    ax.grid(which=\"minor\", color=\"w\", linestyle='-', linewidth=3)\n",
    "    ax.tick_params(which=\"minor\", bottom=False, left=False)\n",
    "\n",
    "    return im, cbar\n",
    "\n",
    "\n",
    "def annotate_heatmap(im, data=None, valfmt=\"{x:.2f}\",\n",
    "                     textcolors=[\"black\", \"white\"],\n",
    "                     threshold=None, **textkw):\n",
    "    \"\"\"\n",
    "    A function to annotate a heatmap.\n",
    "\n",
    "    Parameters\n",
    "    ----------\n",
    "    im\n",
    "        The AxesImage to be labeled.\n",
    "    data\n",
    "        Data used to annotate.  If None, the image's data is used.  Optional.\n",
    "    valfmt\n",
    "        The format of the annotations inside the heatmap.  This should either\n",
    "        use the string format method, e.g. \"$ {x:.2f}\", or be a\n",
    "        `matplotlib.ticker.Formatter`.  Optional.\n",
    "    textcolors\n",
    "        A list or array of two color specifications.  The first is used for\n",
    "        values below a threshold, the second for those above.  Optional.\n",
    "    threshold\n",
    "        Value in data units according to which the colors from textcolors are\n",
    "        applied.  If None (the default) uses the middle of the colormap as\n",
    "        separation.  Optional.\n",
    "    **kwargs\n",
    "        All other arguments are forwarded to each call to `text` used to create\n",
    "        the text labels.\n",
    "    \"\"\"\n",
    "\n",
    "    if not isinstance(data, (list, np.ndarray)):\n",
    "        data = im.get_array()\n",
    "\n",
    "    # Normalize the threshold to the images color range.\n",
    "    if threshold is not None:\n",
    "        threshold = im.norm(threshold)\n",
    "    else:\n",
    "        threshold = im.norm(data.max())/2.\n",
    "\n",
    "    # Set default alignment to center, but allow it to be\n",
    "    # overwritten by textkw.\n",
    "    kw = dict(horizontalalignment=\"center\",\n",
    "              verticalalignment=\"center\")\n",
    "    kw.update(textkw)\n",
    "\n",
    "    # Get the formatter in case a string is supplied\n",
    "    if isinstance(valfmt, str):\n",
    "        valfmt = matplotlib.ticker.StrMethodFormatter(valfmt)\n",
    "\n",
    "    # Loop over the data and create a `Text` for each \"pixel\".\n",
    "    # Change the text's color depending on the data.\n",
    "    texts = []\n",
    "    for i in range(data.shape[0]):\n",
    "        for j in range(data.shape[1]):\n",
    "            kw.update(color=textcolors[int(im.norm(data[i, j]) > threshold)])\n",
    "            text = im.axes.text(j, i, valfmt(data[i, j], None), **kw)\n",
    "            texts.append(text)\n",
    "\n",
    "    return texts"
   ]
  },
  {
   "cell_type": "code",
   "execution_count": 9,
   "metadata": {},
   "outputs": [
    {
     "data": {
      "image/png": "[encoded data removed]",
      "text/plain": [
       "<Figure size 432x288 with 2 Axes>"
      ]
     },
     "metadata": {
      "needs_background": "light"
     },
     "output_type": "display_data"
    },
    {
     "data": {
      "image/png": "[encoded data removed]",
      "text/plain": [
       "<Figure size 432x288 with 2 Axes>"
      ]
     },
     "metadata": {
      "needs_background": "light"
     },
     "output_type": "display_data"
    },
    {
     "data": {
      "image/png": "[encoded data removed]",
      "text/plain": [
       "<Figure size 432x288 with 2 Axes>"
      ]
     },
     "metadata": {
      "needs_background": "light"
     },
     "output_type": "display_data"
    },
    {
     "data": {
      "image/png": "[encoded data removed]",
      "text/plain": [
       "<Figure size 432x288 with 2 Axes>"
      ]
     },
     "metadata": {
      "needs_background": "light"
     },
     "output_type": "display_data"
    },
    {
     "data": {
      "image/png": "[encoded data removed]",
      "text/plain": [
       "<Figure size 432x288 with 2 Axes>"
      ]
     },
     "metadata": {
      "needs_background": "light"
     },
     "output_type": "display_data"
    }
   ],
   "source": [
    "for feature in ranges:\n",
    "    fig, ax = plt.subplots()\n",
    "    \n",
    "    im, cbar = heatmap(comparison_array[feature], list(df.keys()), list(df.keys()), ax=ax,\n",
    "                       cmap=\"Reds\", cbarlabel=\"Histogram similarity\")\n",
    "    texts = annotate_heatmap(im)\n",
    "    plt.title(\"'{}'\".format(feature), y=-0.1)\n",
    "    fig.tight_layout()\n",
    "    plt.savefig('fig/{}_sim.eps'.format(feature))"
   ]
  },
  {
   "cell_type": "code",
   "execution_count": 62,
   "metadata": {},
   "outputs": [],
   "source": [
    "# Drop 'user_id' (useless)\n",
    "df_cleaned.drop(columns='user_id')\n",
    "# Swap columns 'is_onsight' and 'year'\n",
    "columnsTitles=[\"country\", \"is_female\", \"height\", \"started\", \"birth\", \"grade_id\", \"year\", \"is_bouldering\", \"year\", \"is_onsight\"]\n",
    "# Construct the dataset\n",
    "dataset = df_cleaned.reindex(columns=columnsTitles)\n",
    "dataset.to_csv('ds.csv')"
   ]
  }
 ],
 "metadata": {
  "kernelspec": {
   "display_name": "Python 3",
   "language": "python",
   "name": "python3"
  },
  "language_info": {
   "codemirror_mode": {
    "name": "ipython",
    "version": 3
   },
   "file_extension": ".py",
   "mimetype": "text/x-python",
   "name": "python",
   "nbconvert_exporter": "python",
   "pygments_lexer": "ipython3",
   "version": "3.5.2"
  }
 },
 "nbformat": 4,
 "nbformat_minor": 2
}
